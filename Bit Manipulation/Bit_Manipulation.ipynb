{
 "cells": [
  {
   "cell_type": "markdown",
   "id": "7eeda1a6",
   "metadata": {},
   "source": [
    "##### Swap two number using bitwise operator\n"
   ]
  },
  {
   "cell_type": "code",
   "execution_count": null,
   "id": "e014efcf",
   "metadata": {},
   "outputs": [
    {
     "name": "stdout",
     "output_type": "stream",
     "text": [
      "a : 5 and \n",
      "b : 15\n"
     ]
    }
   ],
   "source": [
    "a = 10  # 1010 \n",
    "b = 5   # 1001\n",
    "\n",
    "a = a ^ b  # using xor operator (A ^ A = 0)\n",
    "b = a ^ b  # (a ^ b) ^ b  = a\n",
    "a = a ^ b  # (a ^ b) ^ a  = b \n",
    "\n",
    "print(f\"a : {a} and \\nb : {b}\")"
   ]
  },
  {
   "cell_type": "markdown",
   "id": "d63e2002",
   "metadata": {},
   "source": [
    "#### check if the i-th bit is set(1) or not set(0) using bit manipulation"
   ]
  },
  {
   "cell_type": "code",
   "execution_count": null,
   "id": "b79267e4",
   "metadata": {},
   "outputs": [
    {
     "name": "stdout",
     "output_type": "stream",
     "text": [
      "False\n"
     ]
    }
   ],
   "source": [
    "# set     -> bit is \"1\"\n",
    "# Not set -> bit is \"0\" \n",
    "\n",
    "def is_ith_bit_set(n,i):\n",
    "    if (n & (1 << i)) != 0:   # 1101 & 0010  = 0000\n",
    "        return True           # bit is set (1)\n",
    "    else :\n",
    "        return False          # bit is not set (0)\n",
    "\n",
    "n = 13  # 1101\n",
    "i = 1   # 0001\n",
    "\n",
    "print(is_ith_bit_set(n,i))"
   ]
  },
  {
   "cell_type": "markdown",
   "id": "899c4639",
   "metadata": {},
   "source": [
    "#### set the ith bit "
   ]
  },
  {
   "cell_type": "code",
   "execution_count": null,
   "id": "12c86e6e",
   "metadata": {},
   "outputs": [],
   "source": [
    "def set_ith_bit(n,i):\n",
    "    return n | (1 << i)  # 0101 | 0010 = 0111 which is 7 (using or operator)\n",
    "\n",
    "n = 5 # 0101\n",
    "i = 1 # 0001"
   ]
  },
  {
   "cell_type": "markdown",
   "id": "c9de443b",
   "metadata": {},
   "source": [
    "#### clear the i-th bit"
   ]
  },
  {
   "cell_type": "code",
   "execution_count": null,
   "id": "1b4096da",
   "metadata": {},
   "outputs": [
    {
     "name": "stdout",
     "output_type": "stream",
     "text": [
      "9\n"
     ]
    }
   ],
   "source": [
    "def clear_it_bit(n,i):\n",
    "    return n & ~(1 << i)     # 1101 &  1011 = 1001 which is 9\n",
    "\n",
    "n = 13 # 1101\n",
    "i = 2  # (1 << i) -> 0100 \n",
    "\n",
    "print(clear_it_bit(n,i))\n"
   ]
  },
  {
   "cell_type": "markdown",
   "id": "b2261341",
   "metadata": {},
   "source": [
    "#### Toogle the i-th bit"
   ]
  },
  {
   "cell_type": "code",
   "execution_count": null,
   "id": "adf7ca34",
   "metadata": {},
   "outputs": [
    {
     "name": "stdout",
     "output_type": "stream",
     "text": [
      "9\n"
     ]
    }
   ],
   "source": [
    "# Toogle means : flips the bit at position\n",
    "\n",
    "# if it's 1, make it 0\n",
    "# if it's 0, make it 1\n",
    "\n",
    "def toogle_ith_bit(n,i):\n",
    "    return n ^ (1 << i)    # 1101 ^ 0100 = 1001 which is 9\n",
    "\n",
    "n = 13 # 1101\n",
    "i = 2\n",
    "\n",
    "print(toogle_ith_bit(n,i))\n"
   ]
  },
  {
   "cell_type": "markdown",
   "id": "d9231445",
   "metadata": {},
   "source": [
    "#### Remove the last set bit(right most)"
   ]
  },
  {
   "cell_type": "code",
   "execution_count": 14,
   "id": "9ba09975",
   "metadata": {},
   "outputs": [
    {
     "name": "stdout",
     "output_type": "stream",
     "text": [
      "12\n"
     ]
    }
   ],
   "source": [
    "# n = 16  -> 10000  --> 00000\n",
    "# n = 12  ->  1100  -->  1000\n",
    "# n = 13  ->  1101  -->  1100\n",
    "\n",
    "def remove_last_bit(n):\n",
    "    return n & (n-1)     # 1101 & 1100 \n",
    "\n",
    "n = 13 # 1101 \n",
    "\n",
    "print(remove_last_bit(n))"
   ]
  },
  {
   "cell_type": "markdown",
   "id": "82d8403a",
   "metadata": {},
   "source": [
    "#### check if the number is a power of 2"
   ]
  },
  {
   "cell_type": "code",
   "execution_count": 15,
   "id": "6ec8fc91",
   "metadata": {},
   "outputs": [
    {
     "name": "stdout",
     "output_type": "stream",
     "text": [
      "True\n"
     ]
    }
   ],
   "source": [
    "# A power of 2 has exactly 1 set\n",
    "# 2 =>   10\n",
    "# 4 =>  100\n",
    "# 8 => 1000\n",
    "\n",
    "def is_power_of_2(n):\n",
    "    return n > 0 and (n & (n-1)) == 0 \n",
    "\n",
    "print(is_power_of_2(8))"
   ]
  },
  {
   "cell_type": "markdown",
   "id": "c0af9cc6",
   "metadata": {},
   "source": [
    "#### count the number set bits"
   ]
  },
  {
   "cell_type": "code",
   "execution_count": null,
   "id": "9d6f946b",
   "metadata": {},
   "outputs": [
    {
     "name": "stdout",
     "output_type": "stream",
     "text": [
      "3\n"
     ]
    }
   ],
   "source": [
    "def count_set_bits(n):\n",
    "    count = 0\n",
    "    while n > 0 :\n",
    "        if n & 1 :      # Check if last bit is 1\n",
    "            count += 1\n",
    "        n = n >> 1      # divide by 2  (n/2)\n",
    "    return count\n",
    "\n",
    "n = 13 # 1101\n",
    "\n",
    "print(count_set_bits(n))"
   ]
  },
  {
   "cell_type": "markdown",
   "id": "54585c36",
   "metadata": {},
   "source": [
    "#### Minimum bit flips to convert number"
   ]
  },
  {
   "cell_type": "code",
   "execution_count": null,
   "id": "530343c9",
   "metadata": {},
   "outputs": [
    {
     "name": "stdout",
     "output_type": "stream",
     "text": [
      "3\n"
     ]
    }
   ],
   "source": [
    "# start --> 10   goal -- >  7\n",
    "\n",
    "def min_bit_flip(a,b):\n",
    "\n",
    "    xor_result = a^b   # 1101\n",
    "    count = 0\n",
    "\n",
    "    while xor_result:\n",
    "        xor_result &= xor_result-1  #(n& n-1)    \n",
    "        count += 1\n",
    "    return count\n",
    "\n",
    "a = 10   # 1010\n",
    "b = 7    # 0111\n",
    "\n",
    "print(min_bit_flip(a,b))\n"
   ]
  },
  {
   "cell_type": "markdown",
   "id": "a9dd3631",
   "metadata": {},
   "source": [
    "#### Print all subset - power set"
   ]
  },
  {
   "cell_type": "code",
   "execution_count": null,
   "id": "e5314b97",
   "metadata": {},
   "outputs": [
    {
     "name": "stdout",
     "output_type": "stream",
     "text": [
      "[[], [1], [2], [1, 2], [3], [1, 3], [2, 3], [1, 2, 3]]\n"
     ]
    }
   ],
   "source": [
    "# The power set of a given set is the set of all possiable subset \n",
    "\n",
    "# All single element subset\n",
    "# all multiple element subset\n",
    "# the set itself\n",
    "\n",
    "# A - [1,2]   =>  [[],[1],[2],[1,2]]\n",
    "# 2 power n (2^3) = 8\n",
    "\n",
    "def power_set(num):\n",
    "\n",
    "    n = len(num)\n",
    "    result = []\n",
    "\n",
    "    for i in range(2**n):\n",
    "        subset = []\n",
    "\n",
    "        for j in range(n):\n",
    "            if i & (1 << j):\n",
    "                subset.append(num[j])\n",
    "        result.append(subset)\n",
    "\n",
    "    return result \n",
    "\n",
    "print(power_set([1,2,3]))\n"
   ]
  },
  {
   "cell_type": "markdown",
   "id": "e242b71a",
   "metadata": {},
   "source": [
    "#### single number-I\n"
   ]
  },
  {
   "cell_type": "code",
   "execution_count": null,
   "id": "7d4cdc94",
   "metadata": {},
   "outputs": [
    {
     "name": "stdout",
     "output_type": "stream",
     "text": [
      "2\n"
     ]
    }
   ],
   "source": [
    "def single_number(nums):\n",
    "\n",
    "    result = 0 \n",
    "    for num in nums:\n",
    "        result ^= num     # A ^ A = 0\n",
    "    return result \n",
    "\n",
    "nums = [4,2,3,4,3]\n",
    "\n",
    "print(single_number(nums))"
   ]
  },
  {
   "cell_type": "markdown",
   "id": "d98698ca",
   "metadata": {},
   "source": [
    "#### XOR of Numbers in a Given Range (L to R)"
   ]
  },
  {
   "cell_type": "code",
   "execution_count": 9,
   "id": "65f74c2d",
   "metadata": {},
   "outputs": [
    {
     "name": "stdout",
     "output_type": "stream",
     "text": [
      "2\n"
     ]
    }
   ],
   "source": [
    "def xor_up_to(n):\n",
    "\n",
    "    if n % 4 == 0:\n",
    "        return n\n",
    "    elif n % 4 == 1:\n",
    "        return 1\n",
    "    elif n % 4 == 2:\n",
    "        return n+1\n",
    "    else:\n",
    "        return 0\n",
    "    \n",
    "def range_xor(L,R):\n",
    "    return xor_up_to(R) ^ xor_up_to(L-1)\n",
    "\n",
    "L = 3\n",
    "R = 9\n",
    "\n",
    "print(range_xor(L,R))"
   ]
  },
  {
   "cell_type": "code",
   "execution_count": null,
   "id": "5bdd0edf",
   "metadata": {},
   "outputs": [],
   "source": []
  }
 ],
 "metadata": {
  "kernelspec": {
   "display_name": "Python 3",
   "language": "python",
   "name": "python3"
  },
  "language_info": {
   "codemirror_mode": {
    "name": "ipython",
    "version": 3
   },
   "file_extension": ".py",
   "mimetype": "text/x-python",
   "name": "python",
   "nbconvert_exporter": "python",
   "pygments_lexer": "ipython3",
   "version": "3.13.0"
  }
 },
 "nbformat": 4,
 "nbformat_minor": 5
}
