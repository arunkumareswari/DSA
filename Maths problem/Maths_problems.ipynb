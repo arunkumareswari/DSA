{
 "cells": [
  {
   "cell_type": "code",
   "execution_count": 10,
   "metadata": {},
   "outputs": [
    {
     "name": "stdout",
     "output_type": "stream",
     "text": [
      "A -> 2\n",
      "B -> 0\n",
      "C -> 0\n",
      "D -> 0\n",
      "E -> 0\n",
      "F -> 0\n",
      "G -> 0\n",
      "H -> 0\n",
      "I -> 0\n",
      "J -> 0\n",
      "K -> 1\n",
      "L -> 0\n",
      "M -> 1\n",
      "N -> 1\n",
      "O -> 0\n",
      "P -> 0\n",
      "Q -> 0\n",
      "R -> 2\n",
      "S -> 0\n",
      "T -> 0\n",
      "U -> 2\n",
      "V -> 0\n",
      "W -> 0\n",
      "X -> 0\n",
      "Y -> 0\n",
      "Z -> 0\n"
     ]
    }
   ],
   "source": [
    "# Using Fixed-Size Array\n",
    "\n",
    "arr = [0] * 26    # create an array ([0,0,0,0,0,0,0....]26 size)\n",
    "\n",
    "string = input(\"Enter the string: \").upper()  # example :arunkumar\n",
    "\n",
    "# Count frequency\n",
    "for ch in string:\n",
    "    if 'A' <= ch <= 'Z':                              \n",
    "        arr[ord(ch) - ord('A')] += 1                    \n",
    "\n",
    "for i in range(26):\n",
    "    ch = chr(i + ord('A'))\n",
    "    print(f\"{ch} -> {arr[i]}\")\n"
   ]
  },
  {
   "cell_type": "code",
   "execution_count": 11,
   "metadata": {},
   "outputs": [
    {
     "name": "stdout",
     "output_type": "stream",
     "text": [
      "A -> 3\n",
      "B -> 1\n",
      "C -> 2\n",
      "D -> 1\n",
      "F -> 1\n"
     ]
    }
   ],
   "source": [
    "# Using Dictionary\n",
    "\n",
    "letters = ['A', 'A', 'B', 'C', 'C', 'A', 'D', 'F']\n",
    "\n",
    "count_dict = {}\n",
    "\n",
    "for letter in letters:\n",
    "    if letter in count_dict:\n",
    "        count_dict[letter] += 1\n",
    "    else:\n",
    "        count_dict[letter] = 1\n",
    "\n",
    "# Print results\n",
    "for key, value in count_dict.items():\n",
    "    print(f\"{key} -> {value}\")\n"
   ]
  },
  {
   "cell_type": "code",
   "execution_count": 12,
   "metadata": {},
   "outputs": [],
   "source": [
    "# Tips\n",
    "\n",
    "# n % 10  --> give the last number    (546 --> 6)\n",
    "# n// 10  --> remove the last number  (546 --> 54)\n"
   ]
  },
  {
   "cell_type": "code",
   "execution_count": 1,
   "metadata": {},
   "outputs": [
    {
     "name": "stdout",
     "output_type": "stream",
     "text": [
      "Number of digits :8\n"
     ]
    }
   ],
   "source": [
    "#  Counting Digits in a Number\n",
    "\n",
    "num=12356976\n",
    "\n",
    "count=0\n",
    "while num>0:\n",
    "    num=num//10   # Remove the last digit\n",
    "    count+=1      # Increase count\n",
    "\n",
    "\n",
    "print(f'Number of digits :{count}')"
   ]
  },
  {
   "cell_type": "code",
   "execution_count": 1,
   "metadata": {},
   "outputs": [
    {
     "name": "stdout",
     "output_type": "stream",
     "text": [
      "5432\n"
     ]
    }
   ],
   "source": [
    "# Reverse a Number \n",
    "\n",
    "num = 2345\n",
    "reverse =0\n",
    "\n",
    "while num>0:\n",
    "    digits = num%10                     # take last number \n",
    "    reverse= reverse *10 + digits       # add the last number\n",
    "    num = num//10                       # remove the last number\n",
    "\n",
    "print(reverse)\n"
   ]
  },
  {
   "cell_type": "code",
   "execution_count": null,
   "metadata": {},
   "outputs": [
    {
     "name": "stdout",
     "output_type": "stream",
     "text": [
      "-2332 is not palindrome\n"
     ]
    }
   ],
   "source": [
    "# Palindrome are not \n",
    "\n",
    "n=2332\n",
    "checkN = n\n",
    "reverse = 0\n",
    "\n",
    "while n>0:\n",
    "    \n",
    "    digits = n%10\n",
    "    reverse = reverse * 10 + digits\n",
    "    n= n//10 \n",
    "\n",
    "if checkN == reverse:\n",
    "    print(f'{checkN} is palindrome')\n",
    "else :\n",
    "    print(f'{checkN} is not palindrome')"
   ]
  },
  {
   "cell_type": "markdown",
   "metadata": {},
   "source": [
    "![Alt text](image.png)\n",
    "\n"
   ]
  },
  {
   "cell_type": "code",
   "execution_count": 16,
   "metadata": {},
   "outputs": [
    {
     "name": "stdout",
     "output_type": "stream",
     "text": [
      "15\n",
      "------------method 2---------------\n",
      "15\n"
     ]
    }
   ],
   "source": [
    "# sum of natural num 1 to N\n",
    "\n",
    "n=5\n",
    "count=0\n",
    "for i in range(n+1):\n",
    "    count+=i\n",
    "\n",
    "print(count)\n",
    "\n",
    "print(\"------------method 2---------------\")\n",
    "\n",
    "sum = (n*(n+1))//2\n",
    "\n",
    "print(sum)\n",
    "\n"
   ]
  },
  {
   "cell_type": "code",
   "execution_count": 17,
   "metadata": {},
   "outputs": [
    {
     "name": "stdout",
     "output_type": "stream",
     "text": [
      "------------method 3---------------\n",
      "sum: 15\n"
     ]
    }
   ],
   "source": [
    "\n",
    "print(\"------------method 3---------------\")\n",
    "\n",
    "def sum_num(n):\n",
    "\n",
    "    return (n*(n+1))//2\n",
    "\n",
    "\n",
    "num = int(input(\"Enter the number :\"))\n",
    "\n",
    "print(\"sum:\",sum_num(num))"
   ]
  },
  {
   "cell_type": "code",
   "execution_count": 18,
   "metadata": {},
   "outputs": [],
   "source": [
    "# Sub array --> it is a contigious(continuous) part of an array. ([1,2,3,4,5])\n",
    "\n",
    "#  [1]      --> Sub array (Single element is a subarray)\n",
    "#  [1,2]    --> Sub array (Continuous elemnets) \n",
    "#  [3,4,5]  --> Sub array (Continuous elemnets) \n",
    "#  [3,5]    --> not Sub array (not Continuous elemnets  - 4 is skipping) \n",
    "\n"
   ]
  },
  {
   "cell_type": "code",
   "execution_count": null,
   "metadata": {},
   "outputs": [],
   "source": [
    "# [1]  [2]  [3]  [4]          -- 4 sub array \n",
    "# [1, 2]   [2, 3]  [3, 4]     -- 3 sub array \n",
    "# [1, 2, 3]   [2, 3, 4]       -- 2 sub array \n",
    "# [1, 2, 3, 4]                -- 1 sub array\n",
    "#                               10\n",
    "\n",
    "\n",
    "# Total number of subarrays = n × (n + 1) / 2"
   ]
  },
  {
   "cell_type": "code",
   "execution_count": 1,
   "metadata": {},
   "outputs": [
    {
     "data": {
      "text/plain": [
       "10"
      ]
     },
     "execution_count": 1,
     "metadata": {},
     "output_type": "execute_result"
    }
   ],
   "source": [
    "# count the Sub array\n",
    "\n",
    "def count_subarray(arr):\n",
    "\n",
    "    n=0\n",
    "    for i in arr:\n",
    "        n+=1\n",
    "    return n*(n+1)//2\n",
    "    \n",
    "arr=[1,2,3,4]\n",
    "\n",
    "count_subarray(arr)"
   ]
  },
  {
   "cell_type": "code",
   "execution_count": 21,
   "metadata": {},
   "outputs": [
    {
     "name": "stdout",
     "output_type": "stream",
     "text": [
      "16\n"
     ]
    }
   ],
   "source": [
    "# Sum of odd number form 1 to n\n",
    "\n",
    "n= 7\n",
    "sum=0\n",
    "for i in range(1,n+1):\n",
    "    if i%2==1 :\n",
    "        sum+=i\n",
    "print(sum)\n"
   ]
  },
  {
   "cell_type": "code",
   "execution_count": 22,
   "metadata": {},
   "outputs": [
    {
     "name": "stdout",
     "output_type": "stream",
     "text": [
      "====== METHFOD 2======\n",
      "16\n",
      "====== METHFOD 3======\n",
      "9\n"
     ]
    }
   ],
   "source": [
    "# Sum of odd number form 1 to n\n",
    "\n",
    "print('====== METHFOD 2======')\n",
    "\n",
    "n = 7\n",
    "\n",
    "if n % 2 == 1:\n",
    "    x = (n+1) // 2\n",
    "    print(x * x)\n",
    "else:\n",
    "    print(\"this is not odd number\")\n",
    "\n",
    "\n",
    "\n",
    "print('====== METHFOD 3======')\n",
    "\n",
    "def isodd(num):\n",
    "    count=(num+1)//2\n",
    "    return count*count\n",
    "\n",
    "num=5\n",
    "\n",
    "print(isodd(num))"
   ]
  },
  {
   "cell_type": "code",
   "execution_count": 1,
   "metadata": {},
   "outputs": [
    {
     "name": "stdout",
     "output_type": "stream",
     "text": [
      "20\n",
      "========= METHOD 2 ===========\n",
      "12\n"
     ]
    }
   ],
   "source": [
    "# # Sum of Even number \n",
    "\n",
    "n=8\n",
    "\n",
    "if n%2==0:\n",
    "    x=n//2\n",
    "    print(x*(x+1))\n",
    "else:\n",
    "    print(\"this is not even number\")\n",
    "\n",
    "\n",
    "print(\"========= METHOD 2 ===========\")\n",
    "\n",
    "\n",
    "def iseven(num):\n",
    "\n",
    "    if num%2 !=0:\n",
    "        return(\"This is not even number\")\n",
    "\n",
    "    tot_sum= num*(num+1)//2\n",
    "    odd_count= (num+1)//2                       #odd_count= ((n+1)//2) **2\n",
    "    odd_sum= odd_count*odd_count\n",
    "    return tot_sum - odd_sum\n",
    "\n",
    "num =6\n",
    "print(iseven(num))\n",
    "\n",
    "\n"
   ]
  },
  {
   "cell_type": "code",
   "execution_count": null,
   "metadata": {},
   "outputs": [],
   "source": []
  }
 ],
 "metadata": {
  "kernelspec": {
   "display_name": "Python 3",
   "language": "python",
   "name": "python3"
  },
  "language_info": {
   "codemirror_mode": {
    "name": "ipython",
    "version": 3
   },
   "file_extension": ".py",
   "mimetype": "text/x-python",
   "name": "python",
   "nbconvert_exporter": "python",
   "pygments_lexer": "ipython3",
   "version": "3.13.0"
  }
 },
 "nbformat": 4,
 "nbformat_minor": 2
}
