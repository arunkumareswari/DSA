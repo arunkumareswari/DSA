{
 "cells": [
  {
   "cell_type": "code",
   "execution_count": 3,
   "id": "c6ad52f3",
   "metadata": {},
   "outputs": [
    {
     "name": "stdout",
     "output_type": "stream",
     "text": [
      "1 36 2 18 3 12 4 9 6 "
     ]
    }
   ],
   "source": [
    "# Print all Divisors or Factors of a Number\n",
    "\n",
    "Num= int(input(\"Enter the number :\"))\n",
    "\n",
    "for i in range(1,int(Num**0.5)+1):\n",
    "    if Num%i == 0:\n",
    "        print(i,end=\" \")\n",
    "        if i*i ==Num:      # Avoid duplicate if it's a perfect square  (i!= Num // i)\n",
    "            continue\n",
    "        print(Num//i,end=\" \")\n"
   ]
  },
  {
   "cell_type": "code",
   "execution_count": 17,
   "id": "892aba54",
   "metadata": {},
   "outputs": [
    {
     "name": "stdout",
     "output_type": "stream",
     "text": [
      "Factors are: \n",
      "1 36 2 18 3 12 4 9 6 \n",
      "Total number of factors: 9\n"
     ]
    }
   ],
   "source": [
    "#Print All Factors and Count\n",
    "\n",
    "Num = int(input(\"Enter the number: \"))\n",
    "\n",
    "count = 0 \n",
    "\n",
    "print(\"Factors are: \")\n",
    "\n",
    "for i in range(1,int(Num**0.5)+1):\n",
    "    if Num%i == 0:\n",
    "        print(i,end=\" \")\n",
    "        count += 1\n",
    "\n",
    "        if i != Num//i :\n",
    "            print(Num//i,end=\" \") \n",
    "            count += 1\n",
    "\n",
    "print(f\"\\nTotal number of factors: {count}\")\n",
    "\n"
   ]
  },
  {
   "cell_type": "code",
   "execution_count": 3,
   "id": "52e1abc6",
   "metadata": {},
   "outputs": [
    {
     "name": "stdout",
     "output_type": "stream",
     "text": [
      "Not Prime\n",
      "Prime\n"
     ]
    }
   ],
   "source": [
    "# Prime Number\n",
    "\n",
    "def isPrime(N):\n",
    "\n",
    "    if N <= 1:\n",
    "        return \"Not Prime\"\n",
    "    \n",
    "    for i in range(2,int(N**0.5)+1):\n",
    "        if N%i == 0:\n",
    "            return \"Not Prime\"\n",
    "        \n",
    "    return \"Prime\"\n",
    "\n",
    "print(isPrime(36))\n",
    "print(isPrime(37))"
   ]
  },
  {
   "cell_type": "code",
   "execution_count": null,
   "id": "95ec14cd",
   "metadata": {},
   "outputs": [
    {
     "data": {
      "text/plain": [
       "[2, 2, 2, 3, 3, 5]"
      ]
     },
     "execution_count": 5,
     "metadata": {},
     "output_type": "execute_result"
    }
   ],
   "source": [
    "# Full prime factorization with duplicates\n",
    "\n",
    "def prime_factor_full(n):\n",
    "    \n",
    "    factor=[]\n",
    "\n",
    "    while n%2 == 0:\n",
    "        factor.append(2)\n",
    "        n//=2\n",
    "\n",
    "    i =3\n",
    "\n",
    "    while i*i <= n :\n",
    "        while n%i==0:\n",
    "            factor.append(i)\n",
    "            n//=i\n",
    "        i+=2\n",
    "\n",
    "    if n > 2 :\n",
    "        factor.append(n)\n",
    "    \n",
    "    return factor\n",
    "\n",
    "prime_factor_full(360)\n"
   ]
  },
  {
   "cell_type": "code",
   "execution_count": 12,
   "id": "f9e89d60",
   "metadata": {},
   "outputs": [
    {
     "name": "stdout",
     "output_type": "stream",
     "text": [
      "[2, 3, 5]\n"
     ]
    }
   ],
   "source": [
    " #Unique prime factors only\n",
    "\n",
    "def prime_factor_unique(n):\n",
    "    \n",
    "    factors = []\n",
    "    i = 2\n",
    "\n",
    "    while i*i <= n:\n",
    "\n",
    "        if n%i == 0:\n",
    "            factors.append(i)\n",
    "\n",
    "            while n%i ==0 :\n",
    "                n//=i\n",
    "\n",
    "        i = i+1 if i==2 else i+2\n",
    "\n",
    "    if n > 1 :\n",
    "        factors.append(n)\n",
    "\n",
    "    return factors\n",
    "\n",
    "print(prime_factor_unique(360))"
   ]
  },
  {
   "cell_type": "code",
   "execution_count": null,
   "id": "894203d2",
   "metadata": {},
   "outputs": [
    {
     "data": {
      "text/plain": [
       "[2, 3, 5, 7, 11, 13, 17, 19, 23, 29, 31]"
      ]
     },
     "execution_count": 2,
     "metadata": {},
     "output_type": "execute_result"
    }
   ],
   "source": [
    "#Sieve of Eratosthenes\n",
    "\n",
    "def sieve_of_eratosthenses(n):\n",
    "\n",
    "    sieve =[True]* (n+1)                       # Create a boolean array & assign True value\n",
    "    for i in range(2,int(n**0.5)+1):\n",
    "\n",
    "        if sieve[i]:\n",
    "            for multiples in range(i*i,n+1,i):\n",
    "                sieve[multiples]=False\n",
    "\n",
    "    return [i for i in range(2,n+1) if sieve[i]]\n",
    "\n",
    "sieve_of_eratosthenses(36)"
   ]
  },
  {
   "cell_type": "code",
   "execution_count": 3,
   "id": "93dc2e52",
   "metadata": {},
   "outputs": [
    {
     "name": "stdout",
     "output_type": "stream",
     "text": [
      "65536\n"
     ]
    }
   ],
   "source": [
    "# Binary Exponentation\n",
    "\n",
    "def binary_exponentation(base,exponentation):\n",
    "    \n",
    "    result=1\n",
    "    \n",
    "    while exponentation > 0:\n",
    "        if exponentation%2 != 0 :\n",
    "            result*= base\n",
    "            \n",
    "        base= base*base\n",
    "        exponentation = exponentation//2\n",
    "        \n",
    "    return result\n",
    "    \n",
    "print(binary_exponentation(16,4))"
   ]
  },
  {
   "cell_type": "code",
   "execution_count": null,
   "id": "ff2aa3a7",
   "metadata": {},
   "outputs": [
    {
     "name": "stdout",
     "output_type": "stream",
     "text": [
      "6\n",
      "6\n"
     ]
    }
   ],
   "source": [
    "# GCD / HCF of two numbers (Brute-force)\n",
    "\n",
    "def gcd(a,b):\n",
    "\n",
    "    gcd=1\n",
    "    for i in range(min(a,b),0,-1):\n",
    "\n",
    "        if a%i == 0 and b%i == 0:\n",
    "            gcd =i\n",
    "            break\n",
    "    \n",
    "    return gcd \n",
    "\n",
    "print(gcd(12,30))\n",
    "\n",
    "\n",
    "def gcd1(a,b):\n",
    "\n",
    "    for i in range(min(a,b),0,-1):\n",
    "\n",
    "        if a%i == 0 and b%i == 0:\n",
    "            return i\n",
    "\n",
    "print(gcd1(12,30))"
   ]
  },
  {
   "cell_type": "code",
   "execution_count": 2,
   "id": "84a44ad9",
   "metadata": {},
   "outputs": [
    {
     "name": "stdout",
     "output_type": "stream",
     "text": [
      "6\n"
     ]
    }
   ],
   "source": [
    "# GCD / HCF of two numbers (Euclidean Algorithm)\n",
    "\n",
    "def gcd(a,b):\n",
    "\n",
    "    while b != 0:\n",
    "        a,b = b, a % b\n",
    "    return a\n",
    "\n",
    "print(gcd(12,30))"
   ]
  },
  {
   "cell_type": "code",
   "execution_count": 5,
   "id": "06149001",
   "metadata": {},
   "outputs": [
    {
     "name": "stdout",
     "output_type": "stream",
     "text": [
      "60\n"
     ]
    }
   ],
   "source": [
    "# LCM of two numbers (Brute-force)\n",
    "\n",
    "def lcm(a,b):\n",
    "\n",
    "    for i in range(max(a,b),a*b+1):\n",
    "        if i % a == 0 and i % b == 0 :\n",
    "            return i\n",
    "\n",
    "print(lcm(12,30))\n"
   ]
  },
  {
   "cell_type": "code",
   "execution_count": null,
   "id": "2f9b54ef",
   "metadata": {},
   "outputs": [
    {
     "name": "stdout",
     "output_type": "stream",
     "text": [
      "LCM : 60\n"
     ]
    }
   ],
   "source": [
    "# LCM of two numbers (LCM using GCD)\n",
    "\n",
    "def gcd(a,b):\n",
    "\n",
    "    while b != 0:\n",
    "        a,b = b, a%b     \n",
    "\n",
    "    return a\n",
    "\n",
    "#using GCD\n",
    "\n",
    "def lcm(a,b):\n",
    "    return abs(a*b) // gcd(a,b)   # lcm = |a * b| / GCD\n",
    "\n",
    "print(\"LCM :\", lcm(12,30))\n",
    "\n"
   ]
  },
  {
   "cell_type": "code",
   "execution_count": null,
   "id": "732cad0a",
   "metadata": {},
   "outputs": [],
   "source": []
  }
 ],
 "metadata": {
  "kernelspec": {
   "display_name": "Python 3",
   "language": "python",
   "name": "python3"
  },
  "language_info": {
   "codemirror_mode": {
    "name": "ipython",
    "version": 3
   },
   "file_extension": ".py",
   "mimetype": "text/x-python",
   "name": "python",
   "nbconvert_exporter": "python",
   "pygments_lexer": "ipython3",
   "version": "3.13.0"
  }
 },
 "nbformat": 4,
 "nbformat_minor": 5
}
