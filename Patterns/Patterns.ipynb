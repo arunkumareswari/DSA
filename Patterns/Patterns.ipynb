{
 "cells": [
  {
   "cell_type": "code",
   "execution_count": null,
   "metadata": {},
   "outputs": [
    {
     "name": "stdout",
     "output_type": "stream",
     "text": [
      "* * * * * \n",
      "* * * * * \n",
      "* * * * * \n",
      "* * * * * \n",
      "* * * * * \n"
     ]
    }
   ],
   "source": [
    "# Rectangular Star Pattern\n",
    "\n",
    "n=5\n",
    "\n",
    "def patternA():\n",
    "    \n",
    "    for row in range(1,n+1):\n",
    "        for col in range(1,n+1):\n",
    "            print(\"*\",end=' ')\n",
    "        print()\n",
    "\n",
    "patternA()"
   ]
  },
  {
   "cell_type": "code",
   "execution_count": null,
   "metadata": {},
   "outputs": [
    {
     "name": "stdout",
     "output_type": "stream",
     "text": [
      "1 1 1 1 1 \n",
      "2 2 2 2 2 \n",
      "3 3 3 3 3 \n",
      "4 4 4 4 4 \n",
      "5 5 5 5 5 \n",
      "------------------------\n",
      "1 2 3 4 5 \n",
      "1 2 3 4 5 \n",
      "1 2 3 4 5 \n",
      "1 2 3 4 5 \n",
      "1 2 3 4 5 \n"
     ]
    }
   ],
   "source": [
    "# Square Number Patterns (by row or column)\n",
    "\n",
    "def patternB():\n",
    "    \n",
    "    for row in range(1,n+1):\n",
    "        for col in range(1,n+1):\n",
    "            print(row,end=' ')\n",
    "        print()\n",
    "\n",
    "patternB()\n",
    "\n",
    "\n",
    "print(\"------------------------\")\n",
    "\n",
    "def patternB():\n",
    "    \n",
    "    for row in range(1,n+1):\n",
    "        for col in range(1,n+1):\n",
    "            print(col,end=' ')\n",
    "        print()\n",
    "\n",
    "patternB()"
   ]
  },
  {
   "cell_type": "code",
   "execution_count": null,
   "metadata": {},
   "outputs": [
    {
     "name": "stdout",
     "output_type": "stream",
     "text": [
      "* \n",
      "* * \n",
      "* * * \n",
      "* * * * \n",
      "* * * * * \n",
      "------------------\n",
      "1 \n",
      "2 2 \n",
      "3 3 3 \n",
      "4 4 4 4 \n",
      "5 5 5 5 5 \n",
      "--------------\n",
      "1 \n",
      "1 2 \n",
      "1 2 3 \n",
      "1 2 3 4 \n",
      "1 2 3 4 5 \n"
     ]
    }
   ],
   "source": [
    "# Left-Aligned Triangle (Stars)\n",
    "\n",
    "def patternC():\n",
    "    \n",
    "    for row in range(1,n+1):\n",
    "        for col in range(1,row+1):\n",
    "            print(\"*\",end=' ')\n",
    "        print()\n",
    "\n",
    "patternC()\n",
    "\n",
    "print(\"------------------\")\n",
    "\n",
    "\n",
    "def patternD():\n",
    "    \n",
    "    for row in range(1,n+1):\n",
    "        for col in range(1,row+1):\n",
    "            print(row,end=' ')\n",
    "        print()\n",
    "\n",
    "patternD()\n",
    "\n",
    "print(\"--------------\")\n",
    "\n",
    "def patternD():\n",
    "    \n",
    "    for row in range(1,n+1):\n",
    "        for col in range(1,row+1):\n",
    "            print(col,end=' ')\n",
    "        print()\n",
    "\n",
    "patternD()"
   ]
  },
  {
   "cell_type": "code",
   "execution_count": 39,
   "metadata": {},
   "outputs": [
    {
     "ename": "SyntaxError",
     "evalue": "unmatched ')' (2492703681.py, line 28)",
     "output_type": "error",
     "traceback": [
      "  \u001b[36mCell\u001b[39m\u001b[36m \u001b[39m\u001b[32mIn[39]\u001b[39m\u001b[32m, line 28\u001b[39m\n\u001b[31m    \u001b[39m\u001b[31mpatternE())\u001b[39m\n              ^\n\u001b[31mSyntaxError\u001b[39m\u001b[31m:\u001b[39m unmatched ')'\n"
     ]
    }
   ],
   "source": [
    "# Binary Triangle Pattern\n",
    "\n",
    "n=5\n",
    "\n",
    "def patternE():\n",
    "\n",
    "    for row in range(1,n+1):\n",
    "        printval= 0 if row%2==0 else 1\n",
    "        for col in range(1,row+1):\n",
    "            print(printval,end=' ')\n",
    "            printval= 0 if printval==1 else 1\n",
    "        print()\n",
    "\n",
    "patternE()\n",
    "\n",
    "\n",
    "print(\"--------------\")\n",
    "\n",
    "def patternE():\n",
    "    \n",
    "    for row in range(1,n+1):\n",
    "        printval=row%2\n",
    "        for col in range(1,row+1):\n",
    "            print(printval,end=' ')\n",
    "            printval=1-printval\n",
    "        print()\n",
    "\n",
    "patternE())\n",
    "\n",
    "\n",
    "print(\"--------------\")\n",
    "\n",
    "def patternE()):\n",
    "    \n",
    "    for row in range(1,n+1):\n",
    "        for col in range(1,row+1):\n",
    "            print((row+col+1)%2,end=' ')\n",
    "        print()\n",
    "\n",
    "patternE()"
   ]
  },
  {
   "cell_type": "code",
   "execution_count": 37,
   "metadata": {},
   "outputs": [
    {
     "name": "stdout",
     "output_type": "stream",
     "text": [
      "1 \n",
      "0 1 \n",
      "1 0 1 \n",
      "0 1 0 1 \n",
      "1 0 1 0 1 \n",
      "--------------\n",
      "1 \n",
      "0 1 \n",
      "1 0 1 \n",
      "0 1 0 1 \n",
      "1 0 1 0 1 \n"
     ]
    }
   ],
   "source": [
    "n=5\n",
    "\n",
    "def patternF():\n",
    "    \n",
    "    for row in range(1,n+1):\n",
    "        printval=row%2\n",
    "        for col in range(1,row+1):\n",
    "            print(printval,end=' ')\n",
    "            printval=1-printval\n",
    "        print()\n",
    "\n",
    "patternF()\n",
    "\n",
    "\n",
    "print(\"--------------\")\n",
    "\n",
    "def patternF():\n",
    "    \n",
    "    for row in range(1,n+1):\n",
    "        for col in range(1,row+1):\n",
    "            print((row+col+1)%2,end=' ')\n",
    "        print()\n",
    "\n",
    "patternF()"
   ]
  },
  {
   "cell_type": "code",
   "execution_count": null,
   "metadata": {},
   "outputs": [
    {
     "name": "stdout",
     "output_type": "stream",
     "text": [
      "1 \n",
      "2 3 \n",
      "4 5 6 \n",
      "7 8 9 10 \n",
      "11 12 13 14 15 \n"
     ]
    }
   ],
   "source": [
    "# Floyd's Triangle\n",
    "\n",
    "n=5\n",
    "\n",
    "def patternF():\n",
    "    countval=1\n",
    "    for row in range(1,n+1):\n",
    "        for col in range(1,row+1):\n",
    "            print(countval,end=' ')\n",
    "            countval+=1\n",
    "        print()\n",
    "\n",
    "patternF()\n"
   ]
  },
  {
   "cell_type": "code",
   "execution_count": null,
   "metadata": {},
   "outputs": [
    {
     "name": "stdout",
     "output_type": "stream",
     "text": [
      "* * * * * \n",
      "* * * * \n",
      "* * * \n",
      "* * \n",
      "* \n",
      "--------------\n",
      "* * * * * \n",
      "* * * * \n",
      "* * * \n",
      "* * \n",
      "* \n"
     ]
    }
   ],
   "source": [
    "# Inverted Left-Aligned Triangle\n",
    "\n",
    "def patternG():\n",
    "    for row in range(n+1,1,-1):\n",
    "        for col in range(1,row):\n",
    "            print('*',end=' ')\n",
    "        print()\n",
    "\n",
    "patternG()\n",
    "\n",
    "\n",
    "\n",
    "print(\"--------------\")\n",
    "\n",
    "\n",
    "n=5\n",
    "def patternG():\n",
    "    for row in range(1,n+1):\n",
    "        for col in range(n-(row-1)):\n",
    "            print(\"*\",end=' ')\n",
    "        print()\n",
    "\n",
    "patternG()\n",
    "\n"
   ]
  },
  {
   "cell_type": "code",
   "execution_count": 38,
   "metadata": {},
   "outputs": [
    {
     "name": "stdout",
     "output_type": "stream",
     "text": [
      "5 5 5 5 5 \n",
      "4 4 4 4 \n",
      "3 3 3 \n",
      "2 2 \n",
      "1 \n",
      "--------------\n",
      "1 2 3 4 5 \n",
      "1 2 3 4 \n",
      "1 2 3 \n",
      "1 2 \n",
      "1 \n"
     ]
    }
   ],
   "source": [
    "# Inverted Left-Aligned Triangle\n",
    "\n",
    "n=5\n",
    "def patternH():\n",
    "    for row in range(1,n+1):\n",
    "        for col in range(1,n-(row-2)):\n",
    "            print(n-(row-1),end=' ')\n",
    "        print()\n",
    "\n",
    "patternH()\n",
    "\n",
    "\n",
    "print(\"--------------\")\n",
    "\n",
    "\n",
    "n=5\n",
    "def patternI():\n",
    "    for row in range(1,n+1):\n",
    "        for col in range(1,n-row+2):\n",
    "            print(col,end=' ')\n",
    "        print()\n",
    "\n",
    "patternI()"
   ]
  },
  {
   "cell_type": "code",
   "execution_count": null,
   "metadata": {},
   "outputs": [
    {
     "name": "stdout",
     "output_type": "stream",
     "text": [
      "* \n",
      "* * \n",
      "* * * \n",
      "* * * * \n",
      "* * * * * \n",
      "* * * * \n",
      "* * * \n",
      "* * \n",
      "* \n",
      "1 \n",
      "2 2 \n",
      "3 3 3 \n",
      "4 4 4 4 \n",
      "5 5 5 5 5 \n",
      "6 6 6 6 \n",
      "7 7 7 \n",
      "8 8 \n",
      "9 \n"
     ]
    }
   ],
   "source": [
    "# half_diamond\n",
    "\n",
    "n=5\n",
    "\n",
    "def patternJ():\n",
    "    \n",
    "    for row in range(1,n*2):\n",
    "        colTimes = ((n*2)-row) if n < row else row\n",
    "        for col in range(1, colTimes+1):\n",
    "            print(\"*\",end=' ')\n",
    "        print()\n",
    "\n",
    "patternJ()\n",
    "\n",
    "\n",
    "def patternJ():\n",
    "    \n",
    "    for row in range(1,n*2):\n",
    "        colTimes = ((n*2)-row) if n < row else row\n",
    "        for col in range(1, colTimes+1):\n",
    "            print(row,end=' ')\n",
    "        print()\n",
    "\n",
    "patternJ()"
   ]
  },
  {
   "cell_type": "code",
   "execution_count": null,
   "metadata": {},
   "outputs": [
    {
     "name": "stdout",
     "output_type": "stream",
     "text": [
      "        * \n",
      "      * * \n",
      "    * * * \n",
      "  * * * * \n",
      "* * * * * \n",
      "----------------------------\n",
      "        1 \n",
      "      1 2 \n",
      "    1 2 3 \n",
      "  1 2 3 4 \n",
      "1 2 3 4 5 \n"
     ]
    }
   ],
   "source": [
    "#  Right-Aligned Triangl\n",
    "\n",
    "n= 5\n",
    "\n",
    "def patternK():\n",
    "\n",
    "    for row in range(1,n+1):\n",
    "\n",
    "        for space in range(1,n-row+1):\n",
    "            print(' ',end=' ')\n",
    "        for col in range(1,row+1):\n",
    "            print(\"*\",end=' ')\n",
    "        print()\n",
    "\n",
    "patternK()\n",
    "\n",
    "\n",
    "\n",
    "print('----------------------------')\n",
    "\n",
    "def patternK():\n",
    "\n",
    "    for row in range(1,n+1):\n",
    "\n",
    "        for space in range(1,n-row+1):\n",
    "            print(' ',end=' ')\n",
    "        for col in range(1,row+1):\n",
    "            print(col,end=' ')\n",
    "        print()\n",
    "\n",
    "patternK()\n"
   ]
  },
  {
   "cell_type": "code",
   "execution_count": 26,
   "metadata": {},
   "outputs": [
    {
     "name": "stdout",
     "output_type": "stream",
     "text": [
      "* * * * * \n",
      "  * * * * \n",
      "    * * * \n",
      "      * * \n",
      "        * \n"
     ]
    }
   ],
   "source": [
    "# inverted_right_triangle\n",
    "\n",
    "n=5\n",
    "\n",
    "def patternL():\n",
    "\n",
    "    for row in range(1,n+1):\n",
    "        for space in range(row-1):\n",
    "            print(' ',end=' ')\n",
    "        for col in range(1,n-row+2):\n",
    "            print('*',end=' ')\n",
    "        \n",
    "        \n",
    "        print()\n",
    "\n",
    "patternL()\n",
    "\n",
    "\n",
    "\n"
   ]
  },
  {
   "cell_type": "code",
   "execution_count": 15,
   "metadata": {},
   "outputs": [
    {
     "name": "stdout",
     "output_type": "stream",
     "text": [
      "        * \n",
      "      * * * \n",
      "    * * * * * \n",
      "  * * * * * * * \n",
      "* * * * * * * * * \n"
     ]
    }
   ],
   "source": [
    "#Centered Pyramid / full_pyramid\n",
    "\n",
    "n=5\n",
    "\n",
    "def patternM():\n",
    "\n",
    "    for row in range(1,n+1):\n",
    "        for space in range(1,n-row+1):\n",
    "            print(' ',end=' ')\n",
    "        for col in range(1,(row*2)):\n",
    "            print('*',end=' ')\n",
    "\n",
    "        print()\n",
    "patternM()"
   ]
  },
  {
   "cell_type": "code",
   "execution_count": null,
   "metadata": {},
   "outputs": [
    {
     "name": "stdout",
     "output_type": "stream",
     "text": [
      "* * * * * * * * * \n",
      "  * * * * * * * \n",
      "    * * * * * \n",
      "      * * * \n",
      "        * \n",
      "---------------------------------------\n",
      "1 2 3 4 5 6 7 8 9 \n",
      "  1 2 3 4 5 6 7 \n",
      "    1 2 3 4 5 \n",
      "      1 2 3 \n",
      "        1 \n"
     ]
    }
   ],
   "source": [
    "#  Inverted Full Pyramid\n",
    "\n",
    "n= 5\n",
    "\n",
    "def patternN():\n",
    "    for row in range(n,0,-1):\n",
    "        for space in range(n-row):\n",
    "            print(' ',end=' ')\n",
    "        for col in range(1,row*2):\n",
    "            print(\"*\",end=' ')\n",
    "\n",
    "        print()\n",
    "\n",
    "patternN()\n",
    "\n",
    "print('---------------------------------------')\n",
    "\n",
    "\n",
    "def patternN():\n",
    "    for row in range(1,n+1):\n",
    "        for space in range(row-1):\n",
    "            print(' ',end=' ')\n",
    "        coltimes = (n-row) *2+1\n",
    "        for col in range(1,coltimes+1):\n",
    "            print(col,end=' ')\n",
    "\n",
    "        print()\n",
    "\n",
    "patternN()"
   ]
  },
  {
   "cell_type": "code",
   "execution_count": null,
   "metadata": {},
   "outputs": [
    {
     "name": "stdout",
     "output_type": "stream",
     "text": [
      "        * \n",
      "      * * * \n",
      "    * * * * * \n",
      "  * * * * * * * \n",
      "* * * * * * * * * \n",
      "  * * * * * * * \n",
      "    * * * * * \n",
      "      * * * \n",
      "        * \n",
      "................................................\n",
      "        1 \n",
      "      2 2 2 \n",
      "    3 3 3 3 3 \n",
      "  4 4 4 4 4 4 4 \n",
      "5 5 5 5 5 5 5 5 5 \n",
      "  6 6 6 6 6 6 6 \n",
      "    7 7 7 7 7 \n",
      "      8 8 8 \n",
      "        9 \n"
     ]
    }
   ],
   "source": [
    "# Diamond Pattern/ Number Diamond Pattern\n",
    "\n",
    "n = 5\n",
    "\n",
    "def patternO():\n",
    "    for row in range(1, n*2):\n",
    "        coltimes = n*2 - row if n < row else row\n",
    "        for space in range(n - coltimes):\n",
    "            print(' ', end=' ')\n",
    "        for col in range(1, coltimes * 2):\n",
    "            print(\"*\", end=' ')\n",
    "        print()\n",
    "\n",
    "patternO()\n",
    "\n",
    "print(\"................................................\")\n",
    "\n",
    "def patternO():\n",
    "    for row in range(1, n*2):\n",
    "        coltimes = n*2 - row if n < row else row\n",
    "        for space in range(n - coltimes):\n",
    "            print(' ', end=' ')\n",
    "        for col in range(1, coltimes * 2):\n",
    "            print(row, end=' ')\n",
    "        print()\n",
    "\n",
    "patternO()\n"
   ]
  },
  {
   "cell_type": "code",
   "execution_count": null,
   "metadata": {},
   "outputs": [
    {
     "name": "stdout",
     "output_type": "stream",
     "text": [
      "* * * * * \n",
      " * * * * \n",
      "  * * * \n",
      "   * * \n",
      "    * \n",
      "   * * \n",
      "  * * * \n",
      " * * * * \n",
      "* * * * * \n"
     ]
    }
   ],
   "source": [
    "# Hourglass Pattern\n",
    "\n",
    "def patternP():\n",
    "\n",
    "    for row in range(1, (n * 2)):\n",
    "\n",
    "        rowChange = (n * 2) - row if row > n else row\n",
    "\n",
    "        for space in range(1, rowChange):\n",
    "            print(\" \", end=\"\")\n",
    "        for col in range(1, n - rowChange + 2):\n",
    "            print(\"*\", end=\" \")\n",
    "        print()\n",
    "\n",
    "patternP()\n"
   ]
  },
  {
   "cell_type": "code",
   "execution_count": null,
   "metadata": {},
   "outputs": [
    {
     "name": "stdout",
     "output_type": "stream",
     "text": [
      "        * \n",
      "      *   * \n",
      "    *       * \n",
      "  *           * \n",
      "* * * * * * * * * \n"
     ]
    }
   ],
   "source": [
    "# Hollow Pyramid / Empty Pyramid\n",
    "\n",
    "n=5\n",
    "\n",
    "def patternQ():\n",
    "\n",
    "    for row in range(1,n+1):\n",
    "\n",
    "        for space in range(1,n-row+1):\n",
    "            print(\" \",end=\" \")\n",
    "\n",
    "        for col in range(1,row * 2 ):\n",
    "            if col == 1 or col == row*2-1 or n==row :\n",
    "                print(\"*\",end=\" \")\n",
    "            else :\n",
    "                print(\" \",end=\" \")\n",
    "        print()\n",
    "\n",
    "patternQ()"
   ]
  },
  {
   "cell_type": "code",
   "execution_count": null,
   "metadata": {},
   "outputs": [
    {
     "name": "stdout",
     "output_type": "stream",
     "text": [
      "* * * * * * * * * \n",
      "  *           * \n",
      "    *       * \n",
      "      *   * \n",
      "        * \n",
      "===============================================\n",
      "5 5 5 5 5 5 5 5 5 \n",
      "  4           4 \n",
      "    3       3 \n",
      "      2   2 \n",
      "        1 \n"
     ]
    }
   ],
   "source": [
    "# Invert Hollow Pyramid / Invert Empty Pyramid\n",
    "\n",
    "n=5\n",
    "\n",
    "def patternR():\n",
    "    for row in range(1, n + 1):\n",
    "        for space in range(row - 1):\n",
    "            print(\" \", end=\" \")\n",
    "\n",
    "        coltimes = (n - row) * 2 + 1\n",
    "        for col in range(1, coltimes + 1):\n",
    "            if col == 1 or col == coltimes or row == n or row == 1:\n",
    "                print(\"*\", end=\" \")\n",
    "            else:\n",
    "                print(\" \", end=\" \")\n",
    "        print()\n",
    "\n",
    "patternR()\n",
    "\n",
    "\n",
    "print(\"===============================================\")\n",
    "\n",
    "def patternR():\n",
    "\n",
    "    for row in range(n,0,-1):\n",
    "        for space in range(n-row):\n",
    "            print(\" \",end=\" \")\n",
    "        for col in range(1,row*2):\n",
    "            if col==1 or col == row*2-1 or n==row :\n",
    "                print(row,end=\" \")\n",
    "            else :\n",
    "                print(\" \",end=\" \")\n",
    "        print()\n",
    "\n",
    "patternR()\n"
   ]
  },
  {
   "cell_type": "code",
   "execution_count": 30,
   "metadata": {},
   "outputs": [
    {
     "name": "stdout",
     "output_type": "stream",
     "text": [
      "        * \n",
      "      *   * \n",
      "    *       * \n",
      "  *           * \n",
      "*               * \n",
      "  *           * \n",
      "    *       * \n",
      "      *   * \n",
      "        * \n"
     ]
    }
   ],
   "source": [
    "# Hollow Diamond Pattern or Hollow Rhombus Pattern\n",
    "\n",
    "n=5\n",
    "def patternS():\n",
    "\n",
    "    for row in range(1,n*2):\n",
    "\n",
    "        rowchange = n*2-row if n<row else row \n",
    "        for sapce in range(n-rowchange):\n",
    "            print(' ',end=' ')\n",
    "        for col in range (1,rowchange*2):\n",
    "            if col==1 or col==rowchange*2-1 :\n",
    "                print('*',end=\" \")\n",
    "            else : \n",
    "                print(\" \",end=\" \")\n",
    "        print()\n",
    "patternS()\n"
   ]
  },
  {
   "cell_type": "code",
   "execution_count": 34,
   "metadata": {},
   "outputs": [
    {
     "name": "stdout",
     "output_type": "stream",
     "text": [
      "*********\n",
      "*       *\n",
      "*       *\n",
      "*       *\n",
      "*       *\n",
      "*       *\n",
      "*       *\n",
      "*       *\n",
      "*       *\n",
      "*********\n"
     ]
    }
   ],
   "source": [
    "# Hollow Square Pattern.\n",
    "\n",
    "n=10\n",
    "def patternT():\n",
    "\n",
    "    for row in range(1,n+1):\n",
    "        for col in range(1,n):\n",
    "            if row==1 or col==1 or col==n-1 or row==n:\n",
    "                print(\"*\",end='')\n",
    "            else:\n",
    "                print(\" \",end=\"\")\n",
    "        print()\n",
    "\n",
    "patternT()"
   ]
  },
  {
   "cell_type": "code",
   "execution_count": 35,
   "metadata": {},
   "outputs": [
    {
     "name": "stdout",
     "output_type": "stream",
     "text": [
      "         **********\n",
      "        *        *\n",
      "       *        *\n",
      "      *        *\n",
      "     *        *\n",
      "    *        *\n",
      "   *        *\n",
      "  *        *\n",
      " *        *\n",
      "**********\n"
     ]
    }
   ],
   "source": [
    "# Hollow Right-Angled Triangle Star Pattern\n",
    "\n",
    "def patternU():\n",
    "\n",
    "    for row in range(1,n+1):\n",
    "\n",
    "        for space in range(n-row):\n",
    "            print(\" \",end=\"\")\n",
    "        for col in range(1,n+1):\n",
    "            if row == 1 or col== 1 or col == n or row == n :\n",
    "                print(\"*\",end=\"\")\n",
    "            else :\n",
    "                print(\" \",end=\"\")\n",
    "        print()\n",
    "patternU()"
   ]
  },
  {
   "cell_type": "code",
   "execution_count": 36,
   "metadata": {},
   "outputs": [
    {
     "name": "stdout",
     "output_type": "stream",
     "text": [
      "* * * * * * * * * * \n",
      "* * * *     * * * * \n",
      "* * *         * * * \n",
      "* *             * * \n",
      "*                 * \n",
      "*                 * \n",
      "* *             * * \n",
      "* * *         * * * \n",
      "* * * *     * * * * \n",
      "* * * * * * * * * * \n"
     ]
    }
   ],
   "source": [
    "#  Hollow Cross Pattern or X-shaped Hollow Star Pattern\n",
    "\n",
    "n=5\n",
    "def patternV():\n",
    "\n",
    "    for row in range(1,n*2+1):\n",
    "\n",
    "        rowchange = n*2 - (row-1) if row > n else row\n",
    "\n",
    "        for col in range(1,n*2+1):\n",
    "            if col <= n-rowchange+1 or col > n + rowchange-1 :\n",
    "                print(\"*\",end=\" \")\n",
    "            else :\n",
    "                print(\" \",end=' ')\n",
    "        print()\n",
    "\n",
    "patternV() \n"
   ]
  },
  {
   "cell_type": "code",
   "execution_count": null,
   "metadata": {},
   "outputs": [
    {
     "name": "stdout",
     "output_type": "stream",
     "text": [
      "*        *\n",
      "**      **\n",
      "***    ***\n",
      "****  ****\n",
      "**********\n",
      "****  ****\n",
      "***    ***\n",
      "**      **\n",
      "*        *\n"
     ]
    }
   ],
   "source": [
    "# Diamond Star Pattern with Hollow Center\n",
    "\n",
    "def patternW():\n",
    "    \n",
    "    for row in range(1,n*2):\n",
    "\n",
    "        rowchange = n*2-row if row>n else row \n",
    "\n",
    "        for col in range(1,n*2+1):\n",
    "\n",
    "            if col <=rowchange or col > n*2-rowchange :\n",
    "                print(\"*\",end=\"\")\n",
    "            else :\n",
    "                print(\" \",end=\"\")\n",
    "        print()\n",
    "\n",
    "patternW()"
   ]
  },
  {
   "cell_type": "code",
   "execution_count": 7,
   "metadata": {},
   "outputs": [
    {
     "name": "stdout",
     "output_type": "stream",
     "text": [
      "      1 \n",
      "    2 1 2 \n",
      "  3 2 1 2 3 \n",
      "4 3 2 1 2 3 4 \n"
     ]
    }
   ],
   "source": [
    "# Symmetrical Number Pyramid\n",
    "\n",
    "def patternX():\n",
    "\n",
    "    for row in range(1,n+1):\n",
    "\n",
    "        for space in range(n-row):\n",
    "            print(\" \",end=\" \")\n",
    "        \n",
    "        for col in range(row,1,-1):\n",
    "            print(col,end=\" \")\n",
    "        \n",
    "        for col in range(1,row+1):\n",
    "            print(col,end=\" \")\n",
    "\n",
    "        print()\n",
    "\n",
    "patternX()\n",
    "      "
   ]
  },
  {
   "cell_type": "code",
   "execution_count": 2,
   "metadata": {},
   "outputs": [
    {
     "name": "stdout",
     "output_type": "stream",
     "text": [
      "1                 1 \n",
      "1 2             2 1 \n",
      "1 2 3         3 2 1 \n",
      "1 2 3 4     4 3 2 1 \n",
      "1 2 3 4 5 5 4 3 2 1 \n"
     ]
    }
   ],
   "source": [
    "# Double-Sided Mirrored Number Pyramid\n",
    "\n",
    "n=5\n",
    "\n",
    "def patternY():\n",
    "\n",
    "    for row in range (1,n+1):\n",
    "\n",
    "        for col in range(1,row+1):\n",
    "            print(col,end=\" \")\n",
    "\n",
    "        for space in range((n-row)*2):\n",
    "            print(\" \",end=\" \")\n",
    "        \n",
    "        for col in range(row,0,-1):\n",
    "            print(col,end=\" \")\n",
    "\n",
    "        print()\n",
    "patternY()"
   ]
  },
  {
   "cell_type": "code",
   "execution_count": null,
   "metadata": {},
   "outputs": [
    {
     "name": "stdout",
     "output_type": "stream",
     "text": [
      "4 4 4 4 4 4 4 \n",
      "4 3 3 3 3 3 4 \n",
      "4 3 2 2 2 3 4 \n",
      "4 3 2 1 2 3 4 \n",
      "4 3 2 2 2 3 4 \n",
      "4 3 3 3 3 3 4 \n",
      "4 4 4 4 4 4 4 \n"
     ]
    }
   ],
   "source": [
    "# concentric square number pattern\n",
    "\n",
    "n=4\n",
    "def patternZ():\n",
    "    for row in range(1, 2 * n):\n",
    "        for col in range(1, 2 * n):\n",
    "            minDist = min(min(row, col), min(2 * n - row, 2 * n - col))\n",
    "            print((n - minDist + 1), end=\" \")\n",
    "        print()\n",
    "\n",
    "patternZ()"
   ]
  },
  {
   "cell_type": "code",
   "execution_count": null,
   "metadata": {},
   "outputs": [],
   "source": []
  }
 ],
 "metadata": {
  "kernelspec": {
   "display_name": "Python 3",
   "language": "python",
   "name": "python3"
  },
  "language_info": {
   "codemirror_mode": {
    "name": "ipython",
    "version": 3
   },
   "file_extension": ".py",
   "mimetype": "text/x-python",
   "name": "python",
   "nbconvert_exporter": "python",
   "pygments_lexer": "ipython3",
   "version": "3.13.0"
  }
 },
 "nbformat": 4,
 "nbformat_minor": 2
}
